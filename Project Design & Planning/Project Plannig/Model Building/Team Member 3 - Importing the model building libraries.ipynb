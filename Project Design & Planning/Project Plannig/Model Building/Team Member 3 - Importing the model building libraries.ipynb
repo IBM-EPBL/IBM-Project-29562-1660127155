{
 "cells": [
  {
   "cell_type": "markdown",
   "id": "1684438c",
   "metadata": {},
   "source": [
    "# Importing the  Model Building Libraries:"
   ]
  },
  {
   "cell_type": "code",
   "execution_count": 9,
   "id": "84869306",
   "metadata": {},
   "outputs": [],
   "source": [
    "from keras.models import Sequential\n",
    "from keras.layers import Dense\n",
    "from keras.layers import Conv2D\n",
    "from keras.layers import MaxPooling2D\n",
    "from keras.layers import Flatten"
   ]
  }
 ],
 "metadata": {
  "kernelspec": {
   "display_name": "Python 3 (ipykernel)",
   "language": "python",
   "name": "python3"
  },
  "language_info": {
   "codemirror_mode": {
    "name": "ipython",
    "version": 3
   },
   "file_extension": ".py",
   "mimetype": "text/x-python",
   "name": "python",
   "nbconvert_exporter": "python",
   "pygments_lexer": "ipython3",
   "version": "3.9.13"
  }
 },
 "nbformat": 4,
 "nbformat_minor": 5
}
